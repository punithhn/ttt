{
 "cells": [
  {
   "cell_type": "code",
   "execution_count": null,
   "id": "b0ca0eef-6f0a-4e21-a101-f6ca3b409038",
   "metadata": {},
   "outputs": [],
   "source": [
    "keywords:\n",
    "they are the special rserverd words that have special meaning and cannot be used as identifiers,(variables,functions names etc..)\n",
    "\n",
    "ex:true,false,try,for,else ..etc\n"
   ]
  },
  {
   "cell_type": "code",
   "execution_count": null,
   "id": "84faa11b-2e03-40aa-bebf-7a3933325256",
   "metadata": {},
   "outputs": [],
   "source": [
    "datatypes:\n",
    "it mention what type as data it was\n",
    "str\n",
    "int\n",
    "float\n",
    "bool\n",
    "complex\n",
    "\n",
    "sequence datatypes(data structure)\n",
    "str\n",
    "list\n",
    "tuple\n",
    "set\n",
    "dict"
   ]
  },
  {
   "cell_type": "code",
   "execution_count": null,
   "id": "f9a0f9ee-d54b-4875-beea-4ba09d56556e",
   "metadata": {},
   "outputs": [],
   "source": [
    "variables are the names which is used to store the values.\n",
    "\n",
    "RULES to declare variable (valid variable declaratrion):\n",
    "a=2\n",
    "A=4\n",
    "num=20\n",
    "num1=31\n",
    "num2=90\n",
    "stuid=123\n",
    "stu_id=127\n",
    "stud_name=\"jack\"\n",
    "a,b,c=6,3,5\n",
    "x=3; y=5; z=4;\n",
    "\n",
    "invalid variable:\n",
    "1num=5\n",
    "stu name=\"sam\"\n",
    "@num$=5\n",
    "\n",
    "#input/output function\n",
    "\n",
    "print()-output function\n",
    "input()-input function\n"
   ]
  },
  {
   "cell_type": "code",
   "execution_count": 1,
   "id": "c62fb2b0-dcf6-4459-a6d2-bad5b0b49092",
   "metadata": {},
   "outputs": [
    {
     "name": "stdout",
     "output_type": "stream",
     "text": [
      "hello good morning\n"
     ]
    },
    {
     "name": "stdin",
     "output_type": "stream",
     "text": [
      "enter your name: punith\n",
      "enter your age: 21\n"
     ]
    },
    {
     "name": "stdout",
     "output_type": "stream",
     "text": [
      "punith <class 'str'>\n",
      "21 <class 'int'>\n"
     ]
    }
   ],
   "source": [
    "print(\"hello good morning\")\n",
    "name=str(input(\"enter your name:\"))\n",
    "age=int(input(\"enter your age:\"))\n",
    "print(name,type(name))\n",
    "print(age,type(age))\n"
   ]
  },
  {
   "cell_type": "code",
   "execution_count": null,
   "id": "c5061d8b-4d6b-4146-8c63-b88695a4ef8c",
   "metadata": {},
   "outputs": [],
   "source": [
    "write a program to read employee data emp id,emp name, emp sal\n"
   ]
  },
  {
   "cell_type": "code",
   "execution_count": 2,
   "id": "9d7af48a-0dc7-4b73-bd55-f5710177c2cc",
   "metadata": {},
   "outputs": [
    {
     "name": "stdin",
     "output_type": "stream",
     "text": [
      "emp id 123\n",
      "emp name punith\n",
      "emp salary 45000\n"
     ]
    },
    {
     "name": "stdout",
     "output_type": "stream",
     "text": [
      "empid= 123 \n",
      "empname= punith \n",
      "empsal= 45000.0 rs\n"
     ]
    }
   ],
   "source": [
    "id=int(input(\"emp id\"))\n",
    "name=str(input(\"emp name\"))\n",
    "sal=float(input(\"emp salary\"))\n",
    "print(\"empid=\",id,\"\\nempname=\",name,\"\\nempsal=\",sal,\"rs\")"
   ]
  },
  {
   "cell_type": "code",
   "execution_count": null,
   "id": "65c62f75-e0a7-4416-9499-39e5c08ecdb7",
   "metadata": {},
   "outputs": [],
   "source": [
    "take percentage from user and print their result\n",
    "85-100=>distinction\n",
    "60-84=> first class\n",
    "50-59=> second class\n",
    "35-49=> pass\n",
    "0-34=> fail"
   ]
  },
  {
   "cell_type": "code",
   "execution_count": null,
   "id": "2ecec4f0-b60f-4008-ad74-aea1f6c56a10",
   "metadata": {},
   "outputs": [],
   "source": [
    "per = float(input(\"enter your percentage:\"))\n",
    "\n",
    "if(per>=85 and per<=100):\n",
    "    print(\"distinction\")\n",
    "elif(per>=60 and per<=84):\n",
    "    print(\"first class\")\n",
    "elif(per>=50 and per<=59):\n",
    "    print(\"second class\")\n",
    "    "
   ]
  },
  {
   "cell_type": "raw",
   "id": "dd2e95c0-6e61-4692-9973-0e9c5c7fe32f",
   "metadata": {},
   "source": [
    "\n",
    "\n",
    "n = int(input(\"enter a value:\"))\n",
    "if(n%2==0):\n",
    "print (\"even\")\n",
    "else:\n",
    "     print(\"odd\")"
   ]
  },
  {
   "cell_type": "code",
   "execution_count": 3,
   "id": "36a68aea-9360-4f70-a130-73928ddecd5b",
   "metadata": {},
   "outputs": [
    {
     "name": "stdin",
     "output_type": "stream",
     "text": [
      "enter a num: -14\n"
     ]
    },
    {
     "name": "stdout",
     "output_type": "stream",
     "text": [
      "-ve number\n"
     ]
    }
   ],
   "source": [
    "'''write a program to check the given input  is positive number,negative number or zero'''\n",
    "\n",
    "n= int (input(\"enter a num:\"))\n",
    "if (n<0):\n",
    "    print(\"-ve number\")\n",
    "elif(n>0):\n",
    "    print(\"+ve num\")\n",
    "else:\n",
    "    print(\"zero\")"
   ]
  }
 ],
 "metadata": {
  "kernelspec": {
   "display_name": "Python 3 (ipykernel)",
   "language": "python",
   "name": "python3"
  },
  "language_info": {
   "codemirror_mode": {
    "name": "ipython",
    "version": 3
   },
   "file_extension": ".py",
   "mimetype": "text/x-python",
   "name": "python",
   "nbconvert_exporter": "python",
   "pygments_lexer": "ipython3",
   "version": "3.13.5"
  }
 },
 "nbformat": 4,
 "nbformat_minor": 5
}
